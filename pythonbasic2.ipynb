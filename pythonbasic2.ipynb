{
 "cells": [
  {
   "cell_type": "markdown",
   "id": "55f3f3ec-404c-487f-b5b7-7fbd44bd30f2",
   "metadata": {},
   "source": [
    "# conditional statements"
   ]
  },
  {
   "cell_type": "code",
   "execution_count": 26,
   "id": "ac8eb4db-dcaf-4c73-a703-08014ab590a2",
   "metadata": {},
   "outputs": [
    {
     "name": "stdin",
     "output_type": "stream",
     "text": [
      "Enter the number: 5\n"
     ]
    },
    {
     "name": "stdout",
     "output_type": "stream",
     "text": [
      "num is postive\n"
     ]
    }
   ],
   "source": [
    "num=int(input(\"Enter the number:\"))\n",
    "if num > 0:\n",
    " print(\"num is postive\")\n",
    "elif num < 0:\n",
    " print(\"num is negative\")\n",
    "else:\n",
    " print(\"num is zero\")\n",
    "            "
   ]
  },
  {
   "cell_type": "code",
   "execution_count": 64,
   "id": "709799e7-f462-4c99-a762-7d320638ca29",
   "metadata": {},
   "outputs": [
    {
     "name": "stdin",
     "output_type": "stream",
     "text": [
      "Enter the character: u\n"
     ]
    },
    {
     "name": "stdout",
     "output_type": "stream",
     "text": [
      "belongs to vowel\n"
     ]
    }
   ],
   "source": [
    "character=input(\"Enter the character:\")\n",
    "if character in 'aeiou':\n",
    "   print(\"belongs to vowel\")\n",
    "else:\n",
    "   print(\"doesnot belongs to vowel\")            "
   ]
  },
  {
   "cell_type": "code",
   "execution_count": 56,
   "id": "0d194133-d63b-4615-9ac0-453320127a19",
   "metadata": {},
   "outputs": [
    {
     "name": "stdin",
     "output_type": "stream",
     "text": [
      "Enter the character: t\n"
     ]
    },
    {
     "name": "stdout",
     "output_type": "stream",
     "text": [
      "doesnot belongs to vowel\n"
     ]
    }
   ],
   "source": [
    "character=input(\"Enter the character:\")\n",
    "if character in 'aeiou':\n",
    "   print(\"belongs to vowel\")\n",
    "else:\n",
    "   print(\"doesnot belongs to vowel\")            "
   ]
  },
  {
   "cell_type": "code",
   "execution_count": 94,
   "id": "6d3cf579-7c5b-4adf-94f0-80ab33e835e1",
   "metadata": {},
   "outputs": [
    {
     "name": "stdin",
     "output_type": "stream",
     "text": [
      "enter the age: 69\n"
     ]
    },
    {
     "name": "stdout",
     "output_type": "stream",
     "text": [
      "u r senior citizen\n"
     ]
    }
   ],
   "source": [
    "age=int(input(\"enter the age:\"))\n",
    "if age < 13:\n",
    "    print(\"u r Child\")\n",
    "elif 13<age<19:\n",
    "    print(\"u r Teenager\")\n",
    "elif 20<age<56:\n",
    "        print(\"u r Adult\")\n",
    "else: \n",
    "  print(\"u r senior citizen\")"
   ]
  },
  {
   "cell_type": "code",
   "execution_count": 96,
   "id": "064d6456-7f21-4200-a3d5-b61418fec281",
   "metadata": {},
   "outputs": [
    {
     "name": "stdin",
     "output_type": "stream",
     "text": [
      "enter the age: 21\n"
     ]
    },
    {
     "name": "stdout",
     "output_type": "stream",
     "text": [
      "u r Adult\n"
     ]
    }
   ],
   "source": [
    "age=int(input(\"enter the age:\"))\n",
    "if age < 13:\n",
    "    print(\"u r Child\")\n",
    "elif 13<age<19:\n",
    "    print(\"u r Teenager\")\n",
    "elif 20<age<56:\n",
    "        print(\"u r Adult\")\n",
    "else: \n",
    "  print(\"u r senior citizen\")"
   ]
  },
  {
   "cell_type": "code",
   "execution_count": 101,
   "id": "23b482c9-df44-488d-9b73-2295444ceb8f",
   "metadata": {},
   "outputs": [
    {
     "name": "stdout",
     "output_type": "stream",
     "text": [
      "16\n",
      "4\n",
      "60\n",
      "1.6666666666666667\n"
     ]
    }
   ],
   "source": [
    "a=10\n",
    "b=6\n",
    "print(a+b)\n",
    "print(a-b)\n",
    "print(a*b)\n",
    "print(a/b)"
   ]
  },
  {
   "cell_type": "code",
   "execution_count": 125,
   "id": "f48320a8-31d0-4d77-8c64-77bf8ac84a29",
   "metadata": {},
   "outputs": [
    {
     "name": "stdin",
     "output_type": "stream",
     "text": [
      "Enter your marks: 36\n",
      "Enter your marks: 45\n",
      "Enter your marks: 50\n"
     ]
    },
    {
     "name": "stdout",
     "output_type": "stream",
     "text": [
      "u r not eligible\n"
     ]
    }
   ],
   "source": [
    "maths=int(input(\"Enter your marks:\"))\n",
    "physics=int(input(\"Enter your marks:\"))\n",
    "chmistry=int(input(\"Enter your marks:\"))\n",
    "average=(maths+physics+chmistry)/3\n",
    "if average>=60:\n",
    " print(\"u r eligible\")\n",
    "else:\n",
    "    print(\"u r not eligible\")"
   ]
  },
  {
   "cell_type": "code",
   "execution_count": 127,
   "id": "3cbbd612-b867-454c-a233-849559d31c75",
   "metadata": {},
   "outputs": [
    {
     "name": "stdin",
     "output_type": "stream",
     "text": [
      "Enter your marks: 80\n",
      "Enter your marks: 95\n",
      "Enter your marks: 93\n"
     ]
    },
    {
     "name": "stdout",
     "output_type": "stream",
     "text": [
      "u r eligible\n"
     ]
    }
   ],
   "source": [
    "maths=int(input(\"Enter your marks:\"))\n",
    "physics=int(input(\"Enter your marks:\"))\n",
    "chmistry=int(input(\"Enter your marks:\"))\n",
    "average=(maths+physics+chmistry)/3\n",
    "if average>=60:\n",
    " print(\"u r eligible\")\n",
    "else:\n",
    "    print(\"u r not eligible\")"
   ]
  },
  {
   "cell_type": "code",
   "execution_count": 131,
   "id": "a46141c5-ad3e-4c49-921b-cb32e2722646",
   "metadata": {},
   "outputs": [
    {
     "name": "stdin",
     "output_type": "stream",
     "text": [
      "Enter the number: 60\n"
     ]
    },
    {
     "name": "stdout",
     "output_type": "stream",
     "text": [
      "num is not within a range\n"
     ]
    }
   ],
   "source": [
    "num=int(input(\"Enter the number:\"))\n",
    "if 10<=num<=50:\n",
    " print(\"num is within a range\")\n",
    "else:\n",
    " print(\"num is not within a range\")"
   ]
  },
  {
   "cell_type": "code",
   "execution_count": 133,
   "id": "881fc3b5-76ee-408b-af9a-84be098c651f",
   "metadata": {},
   "outputs": [
    {
     "name": "stdin",
     "output_type": "stream",
     "text": [
      "Enter the number: 15\n"
     ]
    },
    {
     "name": "stdout",
     "output_type": "stream",
     "text": [
      "num is within a range\n"
     ]
    }
   ],
   "source": [
    "num=int(input(\"Enter the number:\"))\n",
    "if 10<=num<=50:\n",
    " print(\"num is within a range\")\n",
    "else:\n",
    " print(\"num is not within a range\")"
   ]
  },
  {
   "cell_type": "code",
   "execution_count": 137,
   "id": "36263fa6-e67f-4724-a86e-578a2e0f76c4",
   "metadata": {},
   "outputs": [
    {
     "name": "stdin",
     "output_type": "stream",
     "text": [
      "enter the string: chithra\n",
      "enter the string: shree\n"
     ]
    },
    {
     "name": "stdout",
     "output_type": "stream",
     "text": [
      "True\n",
      "False\n",
      "True\n"
     ]
    }
   ],
   "source": [
    "s1=input(\"enter the string:\")\n",
    "s2=input(\"enter the string:\")\n",
    "s3=s1\n",
    "print(s1 is not s2)\n",
    "print(s1 is s2)\n",
    "print(s1 is s3)"
   ]
  }
 ],
 "metadata": {
  "kernelspec": {
   "display_name": "Python [conda env:base] *",
   "language": "python",
   "name": "conda-base-py"
  },
  "language_info": {
   "codemirror_mode": {
    "name": "ipython",
    "version": 3
   },
   "file_extension": ".py",
   "mimetype": "text/x-python",
   "name": "python",
   "nbconvert_exporter": "python",
   "pygments_lexer": "ipython3",
   "version": "3.12.7"
  }
 },
 "nbformat": 4,
 "nbformat_minor": 5
}
