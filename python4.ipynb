{
 "cells": [
  {
   "cell_type": "markdown",
   "id": "e99d3ae8-34ed-4b2b-bf69-1dc78ef4e5ed",
   "metadata": {},
   "source": [
    "# String Methods"
   ]
  },
  {
   "cell_type": "markdown",
   "id": "75580ddf-9f48-434f-9442-fb208d96739d",
   "metadata": {},
   "source": [
    "### Convert a string to uppercase"
   ]
  },
  {
   "cell_type": "code",
   "execution_count": 3,
   "id": "5fd5e7c3-aca7-4953-9ccf-d7903b01ed92",
   "metadata": {},
   "outputs": [
    {
     "name": "stdout",
     "output_type": "stream",
     "text": [
      " DATA SCIENCE \n"
     ]
    }
   ],
   "source": [
    "text = \" data science \"\n",
    "print(text.upper())"
   ]
  },
  {
   "cell_type": "markdown",
   "id": "76ad0cae-5789-4524-9c8b-1a6fca043752",
   "metadata": {},
   "source": [
    "###  Find the length of the string "
   ]
  },
  {
   "cell_type": "code",
   "execution_count": 6,
   "id": "3c62e08c-e441-4b6d-aeec-1b366e5dc4ee",
   "metadata": {},
   "outputs": [
    {
     "name": "stdout",
     "output_type": "stream",
     "text": [
      "12\n"
     ]
    }
   ],
   "source": [
    "text = \" Hello word \"\n",
    "print(len(text))"
   ]
  },
  {
   "cell_type": "markdown",
   "id": "00632c66-c36b-4c94-b7a5-0abff1d619c8",
   "metadata": {},
   "source": [
    "### Ask the user to enter a number as a string and convert it to an integer. Add 10 and print the result."
   ]
  },
  {
   "cell_type": "code",
   "execution_count": 15,
   "id": "d9bcb7b2-bad6-418b-aa1e-7fa2d0b89578",
   "metadata": {},
   "outputs": [
    {
     "name": "stdin",
     "output_type": "stream",
     "text": [
      "enter a number: 5\n"
     ]
    },
    {
     "name": "stdout",
     "output_type": "stream",
     "text": [
      "5\n",
      "The result is:15\n"
     ]
    }
   ],
   "source": [
    "num_str = input(\"enter a number:\")\n",
    "print(num_str)\n",
    "num_int = int(num_str)\n",
    "result = num_int + 10\n",
    "print(f\"The result is:{result}\")"
   ]
  },
  {
   "cell_type": "markdown",
   "id": "03627321-0485-4604-9f50-681b4ec64664",
   "metadata": {},
   "source": [
    "### Extract the word \"fun\" from the string \"Python is fun\" using slicing."
   ]
  },
  {
   "cell_type": "code",
   "execution_count": 18,
   "id": "8b16e18d-9659-4148-b11e-7f87d4701d3b",
   "metadata": {},
   "outputs": [
    {
     "name": "stdout",
     "output_type": "stream",
     "text": [
      "fun\n"
     ]
    }
   ],
   "source": [
    "s = \"python is fun\"\n",
    "fun=s[-3:]\n",
    "print(fun)"
   ]
  },
  {
   "cell_type": "markdown",
   "id": "8bfaebb5-f26b-4a10-81fc-02a8ce8516a8",
   "metadata": {},
   "source": [
    "### Count how many words are in the string \"Machine Learning is powerful\" using split() and len()"
   ]
  },
  {
   "cell_type": "code",
   "execution_count": 32,
   "id": "4ce44eac-f3b7-456f-8d01-bbacfe0c1ca1",
   "metadata": {},
   "outputs": [
    {
     "name": "stdout",
     "output_type": "stream",
     "text": [
      "3\n"
     ]
    }
   ],
   "source": [
    "text = \"  Machine Learning is powerful  \"\n",
    "print(len(text.split()))"
   ]
  },
  {
   "cell_type": "code",
   "execution_count": 34,
   "id": "53ff74f6-dffa-432a-8f3b-77fff9918c71",
   "metadata": {},
   "outputs": [
    {
     "data": {
      "text/plain": [
       "32"
      ]
     },
     "execution_count": 34,
     "metadata": {},
     "output_type": "execute_result"
    }
   ],
   "source": [
    " text = \"  Machine Learning is powerful  \"\n",
    "len(text)"
   ]
  },
  {
   "cell_type": "markdown",
   "id": "14e36016-a670-47a9-90c6-d50f57cd8472",
   "metadata": {},
   "source": [
    "###  Remove leading and trailing spaces from the string \"  Welcome  \""
   ]
  },
  {
   "cell_type": "code",
   "execution_count": 1,
   "id": "2b787bb7-0e57-4f62-aa57-0faef7d3f9cb",
   "metadata": {},
   "outputs": [
    {
     "name": "stdout",
     "output_type": "stream",
     "text": [
      "welcome\n"
     ]
    }
   ],
   "source": [
    "text = \" welcome \"\n",
    "print(text.strip()) "
   ]
  },
  {
   "cell_type": "markdown",
   "id": "623bc60a-27ea-48bc-883b-c798f4969123",
   "metadata": {},
   "source": [
    "### Check if the word \"Data\" is present in the string \"Big Data Analytics\""
   ]
  },
  {
   "cell_type": "code",
   "execution_count": 6,
   "id": "f420f8a4-2468-4b68-bf80-4e6948ed72bc",
   "metadata": {},
   "outputs": [
    {
     "name": "stdout",
     "output_type": "stream",
     "text": [
      "True\n"
     ]
    }
   ],
   "source": [
    "msg = \"Big Data Analytic\"\n",
    "print(\"Data\" in msg)"
   ]
  },
  {
   "cell_type": "markdown",
   "id": "3b692470-8995-468f-9604-f4c121af0100",
   "metadata": {},
   "source": [
    "### Join the list [\"AI\", \"ML\", \"DL\"] into a single string with hyphens (-)"
   ]
  },
  {
   "cell_type": "code",
   "execution_count": 9,
   "id": "1ecd792c-b43e-4747-8d19-83e73a6abc34",
   "metadata": {},
   "outputs": [
    {
     "name": "stdout",
     "output_type": "stream",
     "text": [
      "AL-ML-DL\n"
     ]
    }
   ],
   "source": [
    "name_list=[\"AL\",\"ML\",\"DL\"]\n",
    "result= \"-\".join(name_list)\n",
    "print(result)"
   ]
  },
  {
   "cell_type": "markdown",
   "id": "a18bd933-6970-48a9-9392-5d5c7961fd90",
   "metadata": {},
   "source": [
    "### Replace the word \"difficult\" with \"easy\" in \"Python is difficult\""
   ]
  },
  {
   "cell_type": "code",
   "execution_count": 12,
   "id": "531b44af-8135-4017-b7b1-effdc1b4f7d5",
   "metadata": {},
   "outputs": [
    {
     "name": "stdout",
     "output_type": "stream",
     "text": [
      "python is easy\n"
     ]
    }
   ],
   "source": [
    "s = \"python is difficult\"\n",
    "s =s.replace(\"difficult\",\"easy\")\n",
    "print(s)"
   ]
  },
  {
   "cell_type": "markdown",
   "id": "2b1bf759-ad06-4be5-9559-38356660d450",
   "metadata": {},
   "source": [
    "### Find the maximum number from the list [10, 45, 3, 99, 23] using a built-in function"
   ]
  },
  {
   "cell_type": "code",
   "execution_count": 15,
   "id": "a86d2738-cbeb-408b-9cb4-266cf4bd7b09",
   "metadata": {},
   "outputs": [
    {
     "name": "stdout",
     "output_type": "stream",
     "text": [
      "99\n"
     ]
    }
   ],
   "source": [
    "num = (10,45,3,99,23)\n",
    "print(max(num))"
   ]
  },
  {
   "cell_type": "code",
   "execution_count": null,
   "id": "f5024270-9a81-46de-940e-398275180761",
   "metadata": {},
   "outputs": [],
   "source": []
  }
 ],
 "metadata": {
  "kernelspec": {
   "display_name": "Python [conda env:base] *",
   "language": "python",
   "name": "conda-base-py"
  },
  "language_info": {
   "codemirror_mode": {
    "name": "ipython",
    "version": 3
   },
   "file_extension": ".py",
   "mimetype": "text/x-python",
   "name": "python",
   "nbconvert_exporter": "python",
   "pygments_lexer": "ipython3",
   "version": "3.12.7"
  }
 },
 "nbformat": 4,
 "nbformat_minor": 5
}
