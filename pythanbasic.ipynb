{
 "cells": [
  {
   "cell_type": "markdown",
   "id": "9b15229c-5484-4a86-a58f-1a16a83e7676",
   "metadata": {},
   "source": [
    "# Variable And Mathematical Operation"
   ]
  },
  {
   "cell_type": "code",
   "execution_count": 49,
   "id": "cfc82aaa-8ba1-4874-bde8-f500aaaf9859",
   "metadata": {},
   "outputs": [
    {
     "name": "stdout",
     "output_type": "stream",
     "text": [
      "5\n",
      "3\n",
      "8\n",
      "2\n",
      "15\n",
      "1.6666666666666667\n",
      "2\n",
      "1\n",
      "8\n"
     ]
    }
   ],
   "source": [
    "a = 5\n",
    "b = 3\n",
    "print(a)\n",
    "print(b)\n",
    "print(a + b)  \n",
    "print(a - b)   \n",
    "print(a * b)  \n",
    "print(a / b)   \n",
    "print(a % b) \n",
    "print(a // b)  \n",
    "print(5 + 3)"
   ]
  },
  {
   "cell_type": "markdown",
   "id": "a8f4011c-c172-4d37-b5c9-ef8c66dd66b0",
   "metadata": {},
   "source": [
    "# Using Input() and Print() "
   ]
  },
  {
   "cell_type": "code",
   "execution_count": 7,
   "id": "fe05290b-74e4-4fa4-b76e-edae6346e10f",
   "metadata": {},
   "outputs": [
    {
     "name": "stdout",
     "output_type": "stream",
     "text": [
      "Hi John,your favorite color is Blue.\n"
     ]
    }
   ],
   "source": [
    "print(\"Hi John,your favorite color is Blue.\")"
   ]
  },
  {
   "cell_type": "code",
   "execution_count": 9,
   "id": "45e9be87-7065-47ff-ba8f-106eaef9cb72",
   "metadata": {},
   "outputs": [
    {
     "name": "stdin",
     "output_type": "stream",
     "text": [
      "Enter your name: John\n",
      "Enter your favorite color: Bule\n"
     ]
    }
   ],
   "source": [
    "name=input(\"Enter your name:\")\n",
    "color=input(\"Enter your favorite color:\")"
   ]
  },
  {
   "cell_type": "code",
   "execution_count": 11,
   "id": "16fffd57-df99-4808-9c8c-8bb6f5b027b6",
   "metadata": {},
   "outputs": [
    {
     "name": "stdout",
     "output_type": "stream",
     "text": [
      "Hi John your favorite color is Bule\n"
     ]
    }
   ],
   "source": [
    "print(\"Hi\",name,\"your favorite color is\",color)"
   ]
  },
  {
   "cell_type": "markdown",
   "id": "d41692b8-d2e2-4e47-b85a-b6355ed867f4",
   "metadata": {},
   "source": [
    "# Format() and F-string()"
   ]
  },
  {
   "cell_type": "code",
   "execution_count": 14,
   "id": "507cb2cf-89b3-4cee-b292-4b5fda57e00a",
   "metadata": {},
   "outputs": [
    {
     "name": "stdout",
     "output_type": "stream",
     "text": [
      "You are 18 years old and live in Bangalore.\n"
     ]
    }
   ],
   "source": [
    "info=\"You are 18 years old and live in Bangalore.\"\n",
    "print(\"{}\".format(info))"
   ]
  },
  {
   "cell_type": "code",
   "execution_count": 16,
   "id": "e79d9aa9-ada9-4b7d-9579-3e62614c1a72",
   "metadata": {},
   "outputs": [
    {
     "name": "stdout",
     "output_type": "stream",
     "text": [
      "You are 18 years old and live in Bangalore.\n"
     ]
    }
   ],
   "source": [
    "print(f\"{info}\")"
   ]
  },
  {
   "cell_type": "markdown",
   "id": "1a2aa06d-84d9-42c6-9d36-6ae79ad8fafe",
   "metadata": {},
   "source": [
    "# Data Types and types()"
   ]
  },
  {
   "cell_type": "code",
   "execution_count": 21,
   "id": "d2ac02f5-1aed-4e9b-a775-7bb72d256d05",
   "metadata": {},
   "outputs": [],
   "source": [
    "a=7\n",
    "b=3.14\n",
    "c=\"Python\"\n",
    "is_valid=True"
   ]
  },
  {
   "cell_type": "code",
   "execution_count": 23,
   "id": "c91da498-b56b-48ad-a632-0e983367825b",
   "metadata": {},
   "outputs": [
    {
     "name": "stdout",
     "output_type": "stream",
     "text": [
      "<class 'int'>\n"
     ]
    }
   ],
   "source": [
    "print(type(a))"
   ]
  },
  {
   "cell_type": "code",
   "execution_count": 25,
   "id": "e4a0dd2c-0afb-4ea0-a085-6ca9fcdef7ed",
   "metadata": {},
   "outputs": [
    {
     "name": "stdout",
     "output_type": "stream",
     "text": [
      "<class 'float'>\n"
     ]
    }
   ],
   "source": [
    "print(type(b))"
   ]
  },
  {
   "cell_type": "code",
   "execution_count": 27,
   "id": "8fae376b-bc37-47ee-94eb-d40c5a4b23c9",
   "metadata": {},
   "outputs": [
    {
     "name": "stdout",
     "output_type": "stream",
     "text": [
      "<class 'str'>\n"
     ]
    }
   ],
   "source": [
    "print(type(c))"
   ]
  },
  {
   "cell_type": "code",
   "execution_count": 29,
   "id": "d9d4bc9d-80db-4d41-ad87-a976b1c38c07",
   "metadata": {},
   "outputs": [
    {
     "name": "stdout",
     "output_type": "stream",
     "text": [
      "<class 'bool'>\n"
     ]
    }
   ],
   "source": [
    "print(type(is_valid))"
   ]
  },
  {
   "cell_type": "markdown",
   "id": "f6f3e761-2b56-43a7-951c-48dd098e5de7",
   "metadata": {},
   "source": [
    "# Type casting"
   ]
  },
  {
   "cell_type": "code",
   "execution_count": 36,
   "id": "d6ff60b4-d621-4e79-9341-91be5e8a6bf2",
   "metadata": {},
   "outputs": [
    {
     "name": "stdin",
     "output_type": "stream",
     "text": [
      "Enter a number: 2\n"
     ]
    }
   ],
   "source": [
    "num=input(\"Enter a number:\")"
   ]
  },
  {
   "cell_type": "code",
   "execution_count": 38,
   "id": "f148cbf7-2233-42c4-a963-a0d87f3c64cd",
   "metadata": {},
   "outputs": [],
   "source": [
    "i=int(num)"
   ]
  },
  {
   "cell_type": "code",
   "execution_count": 40,
   "id": "a6bbedc2-0f67-4823-bcc2-6f47af30436a",
   "metadata": {},
   "outputs": [
    {
     "name": "stdout",
     "output_type": "stream",
     "text": [
      "12\n"
     ]
    }
   ],
   "source": [
    "print(i+10)"
   ]
  },
  {
   "cell_type": "markdown",
   "id": "4d918525-3c04-4a57-b2b6-4c0d1b34fe95",
   "metadata": {},
   "source": [
    "# String Length & Concatenation"
   ]
  },
  {
   "cell_type": "code",
   "execution_count": 45,
   "id": "f81529fe-390a-4d6b-aa37-21628441d6dd",
   "metadata": {},
   "outputs": [
    {
     "name": "stdout",
     "output_type": "stream",
     "text": [
      "Chithra shree\n"
     ]
    }
   ],
   "source": [
    "first_name=\"Chithra\"\n",
    "last_name=\"shree\"\n",
    "n=first_name+\" \"+last_name\n",
    "print(n)"
   ]
  },
  {
   "cell_type": "code",
   "execution_count": 47,
   "id": "66103a14-f0ce-4512-bd5a-2fda890f682a",
   "metadata": {},
   "outputs": [
    {
     "name": "stdout",
     "output_type": "stream",
     "text": [
      "13\n"
     ]
    }
   ],
   "source": [
    "print(len(n))"
   ]
  },
  {
   "cell_type": "code",
   "execution_count": null,
   "id": "ba35fb6a-5e6f-4883-9e2e-53722a455e34",
   "metadata": {},
   "outputs": [],
   "source": []
  }
 ],
 "metadata": {
  "kernelspec": {
   "display_name": "Python [conda env:base] *",
   "language": "python",
   "name": "conda-base-py"
  },
  "language_info": {
   "codemirror_mode": {
    "name": "ipython",
    "version": 3
   },
   "file_extension": ".py",
   "mimetype": "text/x-python",
   "name": "python",
   "nbconvert_exporter": "python",
   "pygments_lexer": "ipython3",
   "version": "3.12.7"
  }
 },
 "nbformat": 4,
 "nbformat_minor": 5
}
